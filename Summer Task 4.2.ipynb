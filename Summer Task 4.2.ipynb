{
 "cells": [
  {
   "cell_type": "code",
   "execution_count": 11,
   "metadata": {},
   "outputs": [],
   "source": [
    "import cv2\n",
    "import numpy as np\n",
    "\n",
    "#Store 1st image to variable with same dimention\n",
    "img1 = cv2.imread(\"spiderman1.png\")[0:500,250:620]\n",
    "img1.shape\n",
    "cv2.imshow(\"Before\",img1)\n",
    "cv2.waitKey(0)\n",
    "cv2.destroyAllWindows()\n",
    "\n",
    "#Store 1st image to variable with same dimention\n",
    "img1 = cv2.imread(\"spiderman1.png\")[0:500,250:620]\n",
    "img1.shape\n",
    "cv2.imshow(\"Before\",img1)\n",
    "cv2.waitKey(0)\n",
    "cv2.destroyAllWindows()\n",
    "\n",
    "#Store 2nd image to variable with same dimention\n",
    "img2 = cv2.imread(\"spiderman2.png\")\n",
    "img2 = img2[0:500,100:470]\n",
    "cv2.imshow(\"Before\",img2)\n",
    "cv2.waitKey(0)\n",
    "cv2.destroyAllWindows()\n",
    "\n",
    "imga=np.array(img1[45:275,70:250])\n",
    "imgb = np.array(img2[0:230,80:260])\n",
    "print(imgb.shape,imga.shape)\n",
    "\n",
    "#Stack the image\n",
    "prev = np.hstack((img1,img2))\n",
    "print(prev.shape)\n",
    "cv2.imshow(\"Before\",prev)\n",
    "cv2.waitKey(0)\n",
    "cv2.destroyAllWindows()\n",
    "\n",
    "# Now we swap these part:\n",
    "\n",
    "img1[45:275,70:250] = imgb\n",
    "img2[0:230,80:260] = imga\n",
    "\n",
    "#Stack Both Image\n",
    "after = np.hstack((img1,img2))\n",
    "\n",
    "#Display Images\n",
    "#cv2.imshow(\"Before\",prev)\n",
    "#Display the Image\n",
    "cv2.imshow(\"After\",after)\n",
    "cv2.waitKey(0)\n",
    "cv2.destroyAllWindows()"
   ]
  }
 ],
 "metadata": {
  "kernelspec": {
   "display_name": "Python 3",
   "language": "python",
   "name": "python3"
  },
  "language_info": {
   "codemirror_mode": {
    "name": "ipython",
    "version": 3
   },
   "file_extension": ".py",
   "mimetype": "text/x-python",
   "name": "python",
   "nbconvert_exporter": "python",
   "pygments_lexer": "ipython3",
   "version": "3.8.5"
  }
 },
 "nbformat": 4,
 "nbformat_minor": 4
}
