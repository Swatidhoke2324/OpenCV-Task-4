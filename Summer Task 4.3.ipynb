{
 "cells": [
  {
   "cell_type": "code",
   "execution_count": 1,
   "metadata": {},
   "outputs": [],
   "source": [
    "import cv2\n",
    "import numpy as np\n",
    "\n",
    "#Store 1st image to variable with same dimention\n",
    "img1 = cv2.imread(\"images.jpg\")[0:404,0:404]\n",
    "img1.shape\n",
    "\n",
    "#Store 2nd image to variable with same dimention\n",
    "img2 = cv2.imread(\"images.jpg\")[0:404,0:404]\n",
    "img2.shape\n",
    "\n",
    "#Now all we need to do is with the help of numpy we stack both the images\n",
    "#Horizontal Stack\n",
    "hor = np.hstack((img1,img2))\n",
    "#Vertical Stack\n",
    "ver = np.vstack((img1,img2))\n",
    "\n",
    "#Display Images\n",
    "cv2.imshow(\"Horizontal\",hor)\n",
    "cv2.imshow(\"Vertical\",ver)\n",
    "cv2.waitKey(0)\n",
    "cv2.destroyAllWindows()"
   ]
  }
 ],
 "metadata": {
  "kernelspec": {
   "display_name": "Python 3",
   "language": "python",
   "name": "python3"
  },
  "language_info": {
   "codemirror_mode": {
    "name": "ipython",
    "version": 3
   },
   "file_extension": ".py",
   "mimetype": "text/x-python",
   "name": "python",
   "nbconvert_exporter": "python",
   "pygments_lexer": "ipython3",
   "version": "3.8.5"
  }
 },
 "nbformat": 4,
 "nbformat_minor": 4
}
